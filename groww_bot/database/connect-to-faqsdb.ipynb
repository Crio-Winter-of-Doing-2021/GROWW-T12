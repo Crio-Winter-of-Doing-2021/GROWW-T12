{
  "nbformat": 4,
  "nbformat_minor": 0,
  "metadata": {
    "colab": {
      "name": "groww_final_faqs",
      "provenance": [],
      "collapsed_sections": [],
      "toc_visible": true
    },
    "kernelspec": {
      "name": "python3",
      "display_name": "Python 3"
    },
    "language_info": {
      "name": "python"
    }
  },
  "cells": [
    {
      "cell_type": "markdown",
      "metadata": {
        "id": "ROaFtgHFQRzO"
      },
      "source": [
        "###launching sqlite command line tool & creating database called faqsdb\n",
        "`  sqlite3 faqsdb   `\n",
        "###comma-separated file\n",
        "`  .mode csv`\n",
        "###creating a new table called \"growwfaqs\"; it will have content from csv file given\n",
        "`.import groww_faqs_utf-8.csv growwfaqs`"
      ]
    },
    {
      "cell_type": "code",
      "metadata": {
        "id": "PBfcKYnaRZoW"
      },
      "source": [
        "import sqlite3\n",
        "\n",
        "def create_connection(db_file):\n",
        "    \"\"\" create a database connection to the SQLite database\n",
        "        specified by the db_file\n",
        "    :param db_file: database file\n",
        "    :return: Connection object or None\n",
        "    \"\"\"\n",
        "    conn = None\n",
        "    try:\n",
        "        conn = sqlite3.connect(db_file)\n",
        "    except Error as e:\n",
        "        print(e)\n",
        "\n",
        "    return conn"
      ],
      "execution_count": 2,
      "outputs": []
    },
    {
      "cell_type": "code",
      "metadata": {
        "id": "0b0SH0PmRbYt"
      },
      "source": [
        "def count_all_stocks(conn, slot_name, slot_value):\n",
        "    \"\"\"\n",
        "    Query all rows in the tasks table\n",
        "    :param conn: the Connection object\n",
        "    :return:\n",
        "    \"\"\"\n",
        "    cur = conn.cursor()\n",
        "    cur.execute(f\"\"\"SELECT * FROM growwfaqs\n",
        "                    where {slot_name}= '{slot_value}'\"\"\")\n",
        "\n",
        "    rows = cur.fetchall()\n",
        "\n",
        "    for row in rows:\n",
        "        print(f\"questionTags {row[4]} ; {row[3]}\")\n",
        "    \n",
        "count_all_stocks(create_connection(\"faqsdb\"), slot_name =\"superCategory\", slot_value = \"Stocks\")"
      ],
      "execution_count": null,
      "outputs": []
    }
  ]
}
